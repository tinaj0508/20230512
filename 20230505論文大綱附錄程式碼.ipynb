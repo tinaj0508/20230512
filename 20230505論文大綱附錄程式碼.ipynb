{
 "cells": [
  {
   "cell_type": "code",
   "execution_count": null,
   "metadata": {},
   "outputs": [],
   "source": [
    "import pandas as pd\n",
    "import re\n",
    "import jieba\n",
    "import jieba.analyse\n",
    "import numpy as np\n"
   ]
  },
  {
   "cell_type": "code",
   "execution_count": null,
   "metadata": {},
   "outputs": [],
   "source": [
    "data = pd.read_csv(\n",
    "    \"C:\\\\Users\\\\user\\\\Desktop\\\\2023_R與言教學\\\\20230430_論文省委書記習近平合併分詞.csv\")\n"
   ]
  },
  {
   "cell_type": "code",
   "execution_count": null,
   "metadata": {},
   "outputs": [],
   "source": [
    "# 詞性標註\n",
    "\n",
    "for i in range(0, 9253):\n",
    "    a = []\n",
    "    b = []\n",
    "    words = jieba.posseg.cut(data[\"content\"][i])\n",
    "\n",
    "    for word, flag in words:\n",
    "        a.append(word)\n",
    "        b.append(flag)\n",
    "        data[\"posSeg\"][i] = a\n",
    "        data[\"pos\"][i] = b\n",
    "        \n",
    "data.to_csv(\"20230503省委書記講話詞性標註.csv\")\n"
   ]
  },
  {
   "cell_type": "code",
   "execution_count": null,
   "metadata": {},
   "outputs": [],
   "source": [
    "data = pd.read_csv(\"C:\\\\Users\\\\user\\\\Desktop\\\\2023_R與言教學\\\\李鴻忠提及防疫文章.csv\")\n"
   ]
  },
  {
   "cell_type": "code",
   "execution_count": null,
   "metadata": {},
   "outputs": [],
   "source": [
    "verblistn = []\n",
    "verblistadj = []\n",
    "verblistvi = []\n",
    "for i in range(0, len(data[\"content\"])):\n",
    "    keywordn = jieba.analyse.extract_tags(\n",
    "        data[\"content\"].iloc[i], topK=20, withWeight=True, allowPOS=('n'))\n",
    "    for r in range(0, len(keywordn)):\n",
    "        verblistn.append(keywordn[r][0])\n",
    "    keyworda = jieba.analyse.extract_tags(\n",
    "        data[\"content\"].iloc[i], topK=20, withWeight=True, allowPOS=('a'))\n",
    "    for r in range(0, len(keyworda)):\n",
    "        verblistadj.append(keyworda[r][0])\n",
    "    keywordv = jieba.analyse.extract_tags(\n",
    "        data[\"content\"].iloc[i], topK=20, withWeight=True, allowPOS=('v', 'i'))\n",
    "    for r in range(0, len(keywordv)):\n",
    "        verblistvi.append(keywordv[r][0])\n"
   ]
  },
  {
   "cell_type": "code",
   "execution_count": null,
   "metadata": {},
   "outputs": [],
   "source": [
    "\n",
    "\n",
    "e1 = pd.value_counts(np.array(verblistn))\n",
    "e2 = pd.value_counts(np.array(verblistadj))\n",
    "e3 = pd.value_counts(np.array(verblistvi))\n",
    "\n",
    "e1.to_excel(\"e11.xlsx\")\n",
    "e2.to_excel(\"e22.xlsx\")\n",
    "e3.to_excel(\"e33.xlsx\")\n"
   ]
  },
  {
   "cell_type": "code",
   "execution_count": null,
   "metadata": {},
   "outputs": [],
   "source": [
    "\n",
    "\n",
    "data1 = data[data[\"Name\"] == \"李鴻忠\"]\n",
    "text = []\n",
    "for i in range(0, len(data1[\"content\"])):\n",
    "    for e in range(0, len(data1[\"content\"].iloc[i].split(\"。\"))):\n",
    "        text.append(data1[\"content\"].iloc[i].split(\"。\")[e])\n",
    "        Xitext = []\n",
    "        matches = [\"总书记\", \"习近平总书记\", \"两个确立\",\n",
    "                \"两个维护\", \"核心\", \"灯塔\", \"掌舵\", \"领袖\"]\n",
    "        \n",
    "for i in range(0, len(text)):\n",
    "    if any([x in text[i] for x in matches]):\n",
    "        Xitext.append(text[i])\n",
    "        print(text[i])\n",
    "verblist = []\n",
    "for i in range(0, len(Xitext)):\n",
    "    keyword = jieba.analyse.extract_tags(\n",
    "        Xitext[i], topK=20,\n",
    "        withWeight=True, allowPOS=('i', 'v'))\n",
    "    for r in range(0, len(keyword)):\n",
    "        verblist.append(keyword[r][0])\n",
    "        e = pd.value_counts(np.array(verblist))\n",
    "\n",
    "e.to_excel(\"e.xlsx\")\n"
   ]
  }
 ],
 "metadata": {
  "language_info": {
   "name": "python"
  },
  "orig_nbformat": 4
 },
 "nbformat": 4,
 "nbformat_minor": 2
}
